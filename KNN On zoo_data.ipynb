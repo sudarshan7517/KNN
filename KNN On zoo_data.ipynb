{
 "cells": [
  {
   "cell_type": "markdown",
   "id": "eac269b3",
   "metadata": {},
   "source": [
    "\n",
    "# Problem Statement:\n",
    "\n",
    "Implement a KNN model to classify the animals in to categorie\n"
   ]
  },
  {
   "cell_type": "markdown",
   "id": "baa3a25b",
   "metadata": {},
   "source": [
    "# Import Libraries"
   ]
  },
  {
   "cell_type": "code",
   "execution_count": 2,
   "id": "8c4e157c",
   "metadata": {},
   "outputs": [],
   "source": [
    "#import libraries\n",
    "import pandas as pd\n",
    "import numpy as np\n",
    "import matplotlib.pyplot as plt\n",
    "import seaborn as sns\n",
    "from sklearn.model_selection import train_test_split\n",
    "from sklearn.preprocessing import StandardScaler\n",
    "from sklearn.metrics import confusion_matrix, accuracy_score,classification_report\n",
    "from sklearn.neighbors import KNeighborsClassifier"
   ]
  },
  {
   "cell_type": "code",
   "execution_count": 3,
   "id": "5a728b22",
   "metadata": {},
   "outputs": [],
   "source": [
    "#import library to ignore warnings\n",
    "import warnings\n",
    "warnings.filterwarnings('ignore')"
   ]
  },
  {
   "cell_type": "code",
   "execution_count": 4,
   "id": "3eed75a9",
   "metadata": {},
   "outputs": [
    {
     "name": "stdout",
     "output_type": "stream",
     "text": [
      "(101, 18)\n"
     ]
    },
    {
     "data": {
      "text/html": [
       "<div>\n",
       "<style scoped>\n",
       "    .dataframe tbody tr th:only-of-type {\n",
       "        vertical-align: middle;\n",
       "    }\n",
       "\n",
       "    .dataframe tbody tr th {\n",
       "        vertical-align: top;\n",
       "    }\n",
       "\n",
       "    .dataframe thead th {\n",
       "        text-align: right;\n",
       "    }\n",
       "</style>\n",
       "<table border=\"1\" class=\"dataframe\">\n",
       "  <thead>\n",
       "    <tr style=\"text-align: right;\">\n",
       "      <th></th>\n",
       "      <th>animal name</th>\n",
       "      <th>hair</th>\n",
       "      <th>feathers</th>\n",
       "      <th>eggs</th>\n",
       "      <th>milk</th>\n",
       "      <th>airborne</th>\n",
       "      <th>aquatic</th>\n",
       "      <th>predator</th>\n",
       "      <th>toothed</th>\n",
       "      <th>backbone</th>\n",
       "      <th>breathes</th>\n",
       "      <th>venomous</th>\n",
       "      <th>fins</th>\n",
       "      <th>legs</th>\n",
       "      <th>tail</th>\n",
       "      <th>domestic</th>\n",
       "      <th>catsize</th>\n",
       "      <th>type</th>\n",
       "    </tr>\n",
       "  </thead>\n",
       "  <tbody>\n",
       "    <tr>\n",
       "      <th>0</th>\n",
       "      <td>aardvark</td>\n",
       "      <td>1</td>\n",
       "      <td>0</td>\n",
       "      <td>0</td>\n",
       "      <td>1</td>\n",
       "      <td>0</td>\n",
       "      <td>0</td>\n",
       "      <td>1</td>\n",
       "      <td>1</td>\n",
       "      <td>1</td>\n",
       "      <td>1</td>\n",
       "      <td>0</td>\n",
       "      <td>0</td>\n",
       "      <td>4</td>\n",
       "      <td>0</td>\n",
       "      <td>0</td>\n",
       "      <td>1</td>\n",
       "      <td>1</td>\n",
       "    </tr>\n",
       "    <tr>\n",
       "      <th>1</th>\n",
       "      <td>antelope</td>\n",
       "      <td>1</td>\n",
       "      <td>0</td>\n",
       "      <td>0</td>\n",
       "      <td>1</td>\n",
       "      <td>0</td>\n",
       "      <td>0</td>\n",
       "      <td>0</td>\n",
       "      <td>1</td>\n",
       "      <td>1</td>\n",
       "      <td>1</td>\n",
       "      <td>0</td>\n",
       "      <td>0</td>\n",
       "      <td>4</td>\n",
       "      <td>1</td>\n",
       "      <td>0</td>\n",
       "      <td>1</td>\n",
       "      <td>1</td>\n",
       "    </tr>\n",
       "    <tr>\n",
       "      <th>2</th>\n",
       "      <td>bass</td>\n",
       "      <td>0</td>\n",
       "      <td>0</td>\n",
       "      <td>1</td>\n",
       "      <td>0</td>\n",
       "      <td>0</td>\n",
       "      <td>1</td>\n",
       "      <td>1</td>\n",
       "      <td>1</td>\n",
       "      <td>1</td>\n",
       "      <td>0</td>\n",
       "      <td>0</td>\n",
       "      <td>1</td>\n",
       "      <td>0</td>\n",
       "      <td>1</td>\n",
       "      <td>0</td>\n",
       "      <td>0</td>\n",
       "      <td>4</td>\n",
       "    </tr>\n",
       "    <tr>\n",
       "      <th>3</th>\n",
       "      <td>bear</td>\n",
       "      <td>1</td>\n",
       "      <td>0</td>\n",
       "      <td>0</td>\n",
       "      <td>1</td>\n",
       "      <td>0</td>\n",
       "      <td>0</td>\n",
       "      <td>1</td>\n",
       "      <td>1</td>\n",
       "      <td>1</td>\n",
       "      <td>1</td>\n",
       "      <td>0</td>\n",
       "      <td>0</td>\n",
       "      <td>4</td>\n",
       "      <td>0</td>\n",
       "      <td>0</td>\n",
       "      <td>1</td>\n",
       "      <td>1</td>\n",
       "    </tr>\n",
       "    <tr>\n",
       "      <th>4</th>\n",
       "      <td>boar</td>\n",
       "      <td>1</td>\n",
       "      <td>0</td>\n",
       "      <td>0</td>\n",
       "      <td>1</td>\n",
       "      <td>0</td>\n",
       "      <td>0</td>\n",
       "      <td>1</td>\n",
       "      <td>1</td>\n",
       "      <td>1</td>\n",
       "      <td>1</td>\n",
       "      <td>0</td>\n",
       "      <td>0</td>\n",
       "      <td>4</td>\n",
       "      <td>1</td>\n",
       "      <td>0</td>\n",
       "      <td>1</td>\n",
       "      <td>1</td>\n",
       "    </tr>\n",
       "    <tr>\n",
       "      <th>...</th>\n",
       "      <td>...</td>\n",
       "      <td>...</td>\n",
       "      <td>...</td>\n",
       "      <td>...</td>\n",
       "      <td>...</td>\n",
       "      <td>...</td>\n",
       "      <td>...</td>\n",
       "      <td>...</td>\n",
       "      <td>...</td>\n",
       "      <td>...</td>\n",
       "      <td>...</td>\n",
       "      <td>...</td>\n",
       "      <td>...</td>\n",
       "      <td>...</td>\n",
       "      <td>...</td>\n",
       "      <td>...</td>\n",
       "      <td>...</td>\n",
       "      <td>...</td>\n",
       "    </tr>\n",
       "    <tr>\n",
       "      <th>96</th>\n",
       "      <td>wallaby</td>\n",
       "      <td>1</td>\n",
       "      <td>0</td>\n",
       "      <td>0</td>\n",
       "      <td>1</td>\n",
       "      <td>0</td>\n",
       "      <td>0</td>\n",
       "      <td>0</td>\n",
       "      <td>1</td>\n",
       "      <td>1</td>\n",
       "      <td>1</td>\n",
       "      <td>0</td>\n",
       "      <td>0</td>\n",
       "      <td>2</td>\n",
       "      <td>1</td>\n",
       "      <td>0</td>\n",
       "      <td>1</td>\n",
       "      <td>1</td>\n",
       "    </tr>\n",
       "    <tr>\n",
       "      <th>97</th>\n",
       "      <td>wasp</td>\n",
       "      <td>1</td>\n",
       "      <td>0</td>\n",
       "      <td>1</td>\n",
       "      <td>0</td>\n",
       "      <td>1</td>\n",
       "      <td>0</td>\n",
       "      <td>0</td>\n",
       "      <td>0</td>\n",
       "      <td>0</td>\n",
       "      <td>1</td>\n",
       "      <td>1</td>\n",
       "      <td>0</td>\n",
       "      <td>6</td>\n",
       "      <td>0</td>\n",
       "      <td>0</td>\n",
       "      <td>0</td>\n",
       "      <td>6</td>\n",
       "    </tr>\n",
       "    <tr>\n",
       "      <th>98</th>\n",
       "      <td>wolf</td>\n",
       "      <td>1</td>\n",
       "      <td>0</td>\n",
       "      <td>0</td>\n",
       "      <td>1</td>\n",
       "      <td>0</td>\n",
       "      <td>0</td>\n",
       "      <td>1</td>\n",
       "      <td>1</td>\n",
       "      <td>1</td>\n",
       "      <td>1</td>\n",
       "      <td>0</td>\n",
       "      <td>0</td>\n",
       "      <td>4</td>\n",
       "      <td>1</td>\n",
       "      <td>0</td>\n",
       "      <td>1</td>\n",
       "      <td>1</td>\n",
       "    </tr>\n",
       "    <tr>\n",
       "      <th>99</th>\n",
       "      <td>worm</td>\n",
       "      <td>0</td>\n",
       "      <td>0</td>\n",
       "      <td>1</td>\n",
       "      <td>0</td>\n",
       "      <td>0</td>\n",
       "      <td>0</td>\n",
       "      <td>0</td>\n",
       "      <td>0</td>\n",
       "      <td>0</td>\n",
       "      <td>1</td>\n",
       "      <td>0</td>\n",
       "      <td>0</td>\n",
       "      <td>0</td>\n",
       "      <td>0</td>\n",
       "      <td>0</td>\n",
       "      <td>0</td>\n",
       "      <td>7</td>\n",
       "    </tr>\n",
       "    <tr>\n",
       "      <th>100</th>\n",
       "      <td>wren</td>\n",
       "      <td>0</td>\n",
       "      <td>1</td>\n",
       "      <td>1</td>\n",
       "      <td>0</td>\n",
       "      <td>1</td>\n",
       "      <td>0</td>\n",
       "      <td>0</td>\n",
       "      <td>0</td>\n",
       "      <td>1</td>\n",
       "      <td>1</td>\n",
       "      <td>0</td>\n",
       "      <td>0</td>\n",
       "      <td>2</td>\n",
       "      <td>1</td>\n",
       "      <td>0</td>\n",
       "      <td>0</td>\n",
       "      <td>2</td>\n",
       "    </tr>\n",
       "  </tbody>\n",
       "</table>\n",
       "<p>101 rows × 18 columns</p>\n",
       "</div>"
      ],
      "text/plain": [
       "    animal name  hair  feathers  eggs  milk  airborne  aquatic  predator  \\\n",
       "0      aardvark     1         0     0     1         0        0         1   \n",
       "1      antelope     1         0     0     1         0        0         0   \n",
       "2          bass     0         0     1     0         0        1         1   \n",
       "3          bear     1         0     0     1         0        0         1   \n",
       "4          boar     1         0     0     1         0        0         1   \n",
       "..          ...   ...       ...   ...   ...       ...      ...       ...   \n",
       "96      wallaby     1         0     0     1         0        0         0   \n",
       "97         wasp     1         0     1     0         1        0         0   \n",
       "98         wolf     1         0     0     1         0        0         1   \n",
       "99         worm     0         0     1     0         0        0         0   \n",
       "100        wren     0         1     1     0         1        0         0   \n",
       "\n",
       "     toothed  backbone  breathes  venomous  fins  legs  tail  domestic  \\\n",
       "0          1         1         1         0     0     4     0         0   \n",
       "1          1         1         1         0     0     4     1         0   \n",
       "2          1         1         0         0     1     0     1         0   \n",
       "3          1         1         1         0     0     4     0         0   \n",
       "4          1         1         1         0     0     4     1         0   \n",
       "..       ...       ...       ...       ...   ...   ...   ...       ...   \n",
       "96         1         1         1         0     0     2     1         0   \n",
       "97         0         0         1         1     0     6     0         0   \n",
       "98         1         1         1         0     0     4     1         0   \n",
       "99         0         0         1         0     0     0     0         0   \n",
       "100        0         1         1         0     0     2     1         0   \n",
       "\n",
       "     catsize  type  \n",
       "0          1     1  \n",
       "1          1     1  \n",
       "2          0     4  \n",
       "3          1     1  \n",
       "4          1     1  \n",
       "..       ...   ...  \n",
       "96         1     1  \n",
       "97         0     6  \n",
       "98         1     1  \n",
       "99         0     7  \n",
       "100        0     2  \n",
       "\n",
       "[101 rows x 18 columns]"
      ]
     },
     "execution_count": 4,
     "metadata": {},
     "output_type": "execute_result"
    }
   ],
   "source": [
    "#Import the dataset & check shape of dataset\n",
    "zoo=pd.read_csv('Zoo.csv')\n",
    "print(zoo.shape)\n",
    "zoo"
   ]
  },
  {
   "cell_type": "markdown",
   "id": "2574e3e2",
   "metadata": {},
   "source": [
    "There are 101 rows & 18 columns."
   ]
  },
  {
   "cell_type": "markdown",
   "id": "ede07da1",
   "metadata": {},
   "source": [
    "# EDA"
   ]
  },
  {
   "cell_type": "code",
   "execution_count": 5,
   "id": "486c3c7d",
   "metadata": {},
   "outputs": [
    {
     "name": "stdout",
     "output_type": "stream",
     "text": [
      "<class 'pandas.core.frame.DataFrame'>\n",
      "RangeIndex: 101 entries, 0 to 100\n",
      "Data columns (total 18 columns):\n",
      " #   Column       Non-Null Count  Dtype \n",
      "---  ------       --------------  ----- \n",
      " 0   animal name  101 non-null    object\n",
      " 1   hair         101 non-null    int64 \n",
      " 2   feathers     101 non-null    int64 \n",
      " 3   eggs         101 non-null    int64 \n",
      " 4   milk         101 non-null    int64 \n",
      " 5   airborne     101 non-null    int64 \n",
      " 6   aquatic      101 non-null    int64 \n",
      " 7   predator     101 non-null    int64 \n",
      " 8   toothed      101 non-null    int64 \n",
      " 9   backbone     101 non-null    int64 \n",
      " 10  breathes     101 non-null    int64 \n",
      " 11  venomous     101 non-null    int64 \n",
      " 12  fins         101 non-null    int64 \n",
      " 13  legs         101 non-null    int64 \n",
      " 14  tail         101 non-null    int64 \n",
      " 15  domestic     101 non-null    int64 \n",
      " 16  catsize      101 non-null    int64 \n",
      " 17  type         101 non-null    int64 \n",
      "dtypes: int64(17), object(1)\n",
      "memory usage: 14.3+ KB\n"
     ]
    }
   ],
   "source": [
    "#check info about data\n",
    "zoo.info()"
   ]
  },
  {
   "cell_type": "code",
   "execution_count": 6,
   "id": "b23d2377",
   "metadata": {},
   "outputs": [
    {
     "data": {
      "text/plain": [
       "animal name    0\n",
       "hair           0\n",
       "feathers       0\n",
       "eggs           0\n",
       "milk           0\n",
       "airborne       0\n",
       "aquatic        0\n",
       "predator       0\n",
       "toothed        0\n",
       "backbone       0\n",
       "breathes       0\n",
       "venomous       0\n",
       "fins           0\n",
       "legs           0\n",
       "tail           0\n",
       "domestic       0\n",
       "catsize        0\n",
       "type           0\n",
       "dtype: int64"
      ]
     },
     "execution_count": 6,
     "metadata": {},
     "output_type": "execute_result"
    }
   ],
   "source": [
    "#checking missing values\n",
    "zoo.isnull().sum()"
   ]
  },
  {
   "cell_type": "markdown",
   "id": "2b298cd2",
   "metadata": {},
   "source": [
    "#### There are no any missing values in dataset."
   ]
  },
  {
   "cell_type": "code",
   "execution_count": 7,
   "id": "6214ffd1",
   "metadata": {},
   "outputs": [
    {
     "data": {
      "text/html": [
       "<div>\n",
       "<style scoped>\n",
       "    .dataframe tbody tr th:only-of-type {\n",
       "        vertical-align: middle;\n",
       "    }\n",
       "\n",
       "    .dataframe tbody tr th {\n",
       "        vertical-align: top;\n",
       "    }\n",
       "\n",
       "    .dataframe thead th {\n",
       "        text-align: right;\n",
       "    }\n",
       "</style>\n",
       "<table border=\"1\" class=\"dataframe\">\n",
       "  <thead>\n",
       "    <tr style=\"text-align: right;\">\n",
       "      <th></th>\n",
       "      <th>hair</th>\n",
       "      <th>feathers</th>\n",
       "      <th>eggs</th>\n",
       "      <th>milk</th>\n",
       "      <th>airborne</th>\n",
       "      <th>aquatic</th>\n",
       "      <th>predator</th>\n",
       "      <th>toothed</th>\n",
       "      <th>backbone</th>\n",
       "      <th>breathes</th>\n",
       "      <th>venomous</th>\n",
       "      <th>fins</th>\n",
       "      <th>legs</th>\n",
       "      <th>tail</th>\n",
       "      <th>domestic</th>\n",
       "      <th>catsize</th>\n",
       "      <th>type</th>\n",
       "    </tr>\n",
       "  </thead>\n",
       "  <tbody>\n",
       "    <tr>\n",
       "      <th>count</th>\n",
       "      <td>101.000000</td>\n",
       "      <td>101.000000</td>\n",
       "      <td>101.000000</td>\n",
       "      <td>101.000000</td>\n",
       "      <td>101.000000</td>\n",
       "      <td>101.000000</td>\n",
       "      <td>101.000000</td>\n",
       "      <td>101.000000</td>\n",
       "      <td>101.000000</td>\n",
       "      <td>101.000000</td>\n",
       "      <td>101.000000</td>\n",
       "      <td>101.000000</td>\n",
       "      <td>101.000000</td>\n",
       "      <td>101.000000</td>\n",
       "      <td>101.000000</td>\n",
       "      <td>101.000000</td>\n",
       "      <td>101.000000</td>\n",
       "    </tr>\n",
       "    <tr>\n",
       "      <th>mean</th>\n",
       "      <td>0.425743</td>\n",
       "      <td>0.198020</td>\n",
       "      <td>0.584158</td>\n",
       "      <td>0.405941</td>\n",
       "      <td>0.237624</td>\n",
       "      <td>0.356436</td>\n",
       "      <td>0.554455</td>\n",
       "      <td>0.603960</td>\n",
       "      <td>0.821782</td>\n",
       "      <td>0.792079</td>\n",
       "      <td>0.079208</td>\n",
       "      <td>0.168317</td>\n",
       "      <td>2.841584</td>\n",
       "      <td>0.742574</td>\n",
       "      <td>0.128713</td>\n",
       "      <td>0.435644</td>\n",
       "      <td>2.831683</td>\n",
       "    </tr>\n",
       "    <tr>\n",
       "      <th>std</th>\n",
       "      <td>0.496921</td>\n",
       "      <td>0.400495</td>\n",
       "      <td>0.495325</td>\n",
       "      <td>0.493522</td>\n",
       "      <td>0.427750</td>\n",
       "      <td>0.481335</td>\n",
       "      <td>0.499505</td>\n",
       "      <td>0.491512</td>\n",
       "      <td>0.384605</td>\n",
       "      <td>0.407844</td>\n",
       "      <td>0.271410</td>\n",
       "      <td>0.376013</td>\n",
       "      <td>2.033385</td>\n",
       "      <td>0.439397</td>\n",
       "      <td>0.336552</td>\n",
       "      <td>0.498314</td>\n",
       "      <td>2.102709</td>\n",
       "    </tr>\n",
       "    <tr>\n",
       "      <th>min</th>\n",
       "      <td>0.000000</td>\n",
       "      <td>0.000000</td>\n",
       "      <td>0.000000</td>\n",
       "      <td>0.000000</td>\n",
       "      <td>0.000000</td>\n",
       "      <td>0.000000</td>\n",
       "      <td>0.000000</td>\n",
       "      <td>0.000000</td>\n",
       "      <td>0.000000</td>\n",
       "      <td>0.000000</td>\n",
       "      <td>0.000000</td>\n",
       "      <td>0.000000</td>\n",
       "      <td>0.000000</td>\n",
       "      <td>0.000000</td>\n",
       "      <td>0.000000</td>\n",
       "      <td>0.000000</td>\n",
       "      <td>1.000000</td>\n",
       "    </tr>\n",
       "    <tr>\n",
       "      <th>25%</th>\n",
       "      <td>0.000000</td>\n",
       "      <td>0.000000</td>\n",
       "      <td>0.000000</td>\n",
       "      <td>0.000000</td>\n",
       "      <td>0.000000</td>\n",
       "      <td>0.000000</td>\n",
       "      <td>0.000000</td>\n",
       "      <td>0.000000</td>\n",
       "      <td>1.000000</td>\n",
       "      <td>1.000000</td>\n",
       "      <td>0.000000</td>\n",
       "      <td>0.000000</td>\n",
       "      <td>2.000000</td>\n",
       "      <td>0.000000</td>\n",
       "      <td>0.000000</td>\n",
       "      <td>0.000000</td>\n",
       "      <td>1.000000</td>\n",
       "    </tr>\n",
       "    <tr>\n",
       "      <th>50%</th>\n",
       "      <td>0.000000</td>\n",
       "      <td>0.000000</td>\n",
       "      <td>1.000000</td>\n",
       "      <td>0.000000</td>\n",
       "      <td>0.000000</td>\n",
       "      <td>0.000000</td>\n",
       "      <td>1.000000</td>\n",
       "      <td>1.000000</td>\n",
       "      <td>1.000000</td>\n",
       "      <td>1.000000</td>\n",
       "      <td>0.000000</td>\n",
       "      <td>0.000000</td>\n",
       "      <td>4.000000</td>\n",
       "      <td>1.000000</td>\n",
       "      <td>0.000000</td>\n",
       "      <td>0.000000</td>\n",
       "      <td>2.000000</td>\n",
       "    </tr>\n",
       "    <tr>\n",
       "      <th>75%</th>\n",
       "      <td>1.000000</td>\n",
       "      <td>0.000000</td>\n",
       "      <td>1.000000</td>\n",
       "      <td>1.000000</td>\n",
       "      <td>0.000000</td>\n",
       "      <td>1.000000</td>\n",
       "      <td>1.000000</td>\n",
       "      <td>1.000000</td>\n",
       "      <td>1.000000</td>\n",
       "      <td>1.000000</td>\n",
       "      <td>0.000000</td>\n",
       "      <td>0.000000</td>\n",
       "      <td>4.000000</td>\n",
       "      <td>1.000000</td>\n",
       "      <td>0.000000</td>\n",
       "      <td>1.000000</td>\n",
       "      <td>4.000000</td>\n",
       "    </tr>\n",
       "    <tr>\n",
       "      <th>max</th>\n",
       "      <td>1.000000</td>\n",
       "      <td>1.000000</td>\n",
       "      <td>1.000000</td>\n",
       "      <td>1.000000</td>\n",
       "      <td>1.000000</td>\n",
       "      <td>1.000000</td>\n",
       "      <td>1.000000</td>\n",
       "      <td>1.000000</td>\n",
       "      <td>1.000000</td>\n",
       "      <td>1.000000</td>\n",
       "      <td>1.000000</td>\n",
       "      <td>1.000000</td>\n",
       "      <td>8.000000</td>\n",
       "      <td>1.000000</td>\n",
       "      <td>1.000000</td>\n",
       "      <td>1.000000</td>\n",
       "      <td>7.000000</td>\n",
       "    </tr>\n",
       "  </tbody>\n",
       "</table>\n",
       "</div>"
      ],
      "text/plain": [
       "             hair    feathers        eggs        milk    airborne     aquatic  \\\n",
       "count  101.000000  101.000000  101.000000  101.000000  101.000000  101.000000   \n",
       "mean     0.425743    0.198020    0.584158    0.405941    0.237624    0.356436   \n",
       "std      0.496921    0.400495    0.495325    0.493522    0.427750    0.481335   \n",
       "min      0.000000    0.000000    0.000000    0.000000    0.000000    0.000000   \n",
       "25%      0.000000    0.000000    0.000000    0.000000    0.000000    0.000000   \n",
       "50%      0.000000    0.000000    1.000000    0.000000    0.000000    0.000000   \n",
       "75%      1.000000    0.000000    1.000000    1.000000    0.000000    1.000000   \n",
       "max      1.000000    1.000000    1.000000    1.000000    1.000000    1.000000   \n",
       "\n",
       "         predator     toothed    backbone    breathes    venomous        fins  \\\n",
       "count  101.000000  101.000000  101.000000  101.000000  101.000000  101.000000   \n",
       "mean     0.554455    0.603960    0.821782    0.792079    0.079208    0.168317   \n",
       "std      0.499505    0.491512    0.384605    0.407844    0.271410    0.376013   \n",
       "min      0.000000    0.000000    0.000000    0.000000    0.000000    0.000000   \n",
       "25%      0.000000    0.000000    1.000000    1.000000    0.000000    0.000000   \n",
       "50%      1.000000    1.000000    1.000000    1.000000    0.000000    0.000000   \n",
       "75%      1.000000    1.000000    1.000000    1.000000    0.000000    0.000000   \n",
       "max      1.000000    1.000000    1.000000    1.000000    1.000000    1.000000   \n",
       "\n",
       "             legs        tail    domestic     catsize        type  \n",
       "count  101.000000  101.000000  101.000000  101.000000  101.000000  \n",
       "mean     2.841584    0.742574    0.128713    0.435644    2.831683  \n",
       "std      2.033385    0.439397    0.336552    0.498314    2.102709  \n",
       "min      0.000000    0.000000    0.000000    0.000000    1.000000  \n",
       "25%      2.000000    0.000000    0.000000    0.000000    1.000000  \n",
       "50%      4.000000    1.000000    0.000000    0.000000    2.000000  \n",
       "75%      4.000000    1.000000    0.000000    1.000000    4.000000  \n",
       "max      8.000000    1.000000    1.000000    1.000000    7.000000  "
      ]
     },
     "execution_count": 7,
     "metadata": {},
     "output_type": "execute_result"
    }
   ],
   "source": [
    "#Generate descriptive statistics\n",
    "zoo.describe()"
   ]
  },
  {
   "cell_type": "code",
   "execution_count": 8,
   "id": "12ec055f",
   "metadata": {},
   "outputs": [
    {
     "data": {
      "text/plain": [
       "frog        2\n",
       "pony        1\n",
       "sealion     1\n",
       "seal        1\n",
       "seahorse    1\n",
       "           ..\n",
       "gorilla     1\n",
       "goat        1\n",
       "gnat        1\n",
       "girl        1\n",
       "wren        1\n",
       "Name: animal name, Length: 100, dtype: int64"
      ]
     },
     "execution_count": 8,
     "metadata": {},
     "output_type": "execute_result"
    }
   ],
   "source": [
    "zoo['animal name'].value_counts()#nunique()"
   ]
  },
  {
   "cell_type": "code",
   "execution_count": 9,
   "id": "bf26dc6a",
   "metadata": {},
   "outputs": [
    {
     "data": {
      "text/plain": [
       "100"
      ]
     },
     "execution_count": 9,
     "metadata": {},
     "output_type": "execute_result"
    }
   ],
   "source": [
    "zoo['animal name'].nunique()"
   ]
  },
  {
   "cell_type": "code",
   "execution_count": 10,
   "id": "3657e4ef",
   "metadata": {},
   "outputs": [
    {
     "data": {
      "text/html": [
       "<div>\n",
       "<style scoped>\n",
       "    .dataframe tbody tr th:only-of-type {\n",
       "        vertical-align: middle;\n",
       "    }\n",
       "\n",
       "    .dataframe tbody tr th {\n",
       "        vertical-align: top;\n",
       "    }\n",
       "\n",
       "    .dataframe thead th {\n",
       "        text-align: right;\n",
       "    }\n",
       "</style>\n",
       "<table border=\"1\" class=\"dataframe\">\n",
       "  <thead>\n",
       "    <tr style=\"text-align: right;\">\n",
       "      <th></th>\n",
       "      <th>animal name</th>\n",
       "      <th>hair</th>\n",
       "      <th>feathers</th>\n",
       "      <th>eggs</th>\n",
       "      <th>milk</th>\n",
       "      <th>airborne</th>\n",
       "      <th>aquatic</th>\n",
       "      <th>predator</th>\n",
       "      <th>toothed</th>\n",
       "      <th>backbone</th>\n",
       "      <th>breathes</th>\n",
       "      <th>venomous</th>\n",
       "      <th>fins</th>\n",
       "      <th>legs</th>\n",
       "      <th>tail</th>\n",
       "      <th>domestic</th>\n",
       "      <th>catsize</th>\n",
       "      <th>type</th>\n",
       "    </tr>\n",
       "  </thead>\n",
       "  <tbody>\n",
       "  </tbody>\n",
       "</table>\n",
       "</div>"
      ],
      "text/plain": [
       "Empty DataFrame\n",
       "Columns: [animal name, hair, feathers, eggs, milk, airborne, aquatic, predator, toothed, backbone, breathes, venomous, fins, legs, tail, domestic, catsize, type]\n",
       "Index: []"
      ]
     },
     "execution_count": 10,
     "metadata": {},
     "output_type": "execute_result"
    }
   ],
   "source": [
    "#check for duplicate values\n",
    "zoo[zoo.duplicated()]"
   ]
  },
  {
   "cell_type": "markdown",
   "id": "c8a7031b",
   "metadata": {},
   "source": [
    "No any duplicated rows"
   ]
  },
  {
   "cell_type": "markdown",
   "id": "e64725ac",
   "metadata": {},
   "source": [
    "# Correlation Analysis & Visualization"
   ]
  },
  {
   "cell_type": "code",
   "execution_count": 11,
   "id": "37ef85e5",
   "metadata": {},
   "outputs": [
    {
     "data": {
      "text/html": [
       "<div>\n",
       "<style scoped>\n",
       "    .dataframe tbody tr th:only-of-type {\n",
       "        vertical-align: middle;\n",
       "    }\n",
       "\n",
       "    .dataframe tbody tr th {\n",
       "        vertical-align: top;\n",
       "    }\n",
       "\n",
       "    .dataframe thead th {\n",
       "        text-align: right;\n",
       "    }\n",
       "</style>\n",
       "<table border=\"1\" class=\"dataframe\">\n",
       "  <thead>\n",
       "    <tr style=\"text-align: right;\">\n",
       "      <th></th>\n",
       "      <th>hair</th>\n",
       "      <th>feathers</th>\n",
       "      <th>eggs</th>\n",
       "      <th>milk</th>\n",
       "      <th>airborne</th>\n",
       "      <th>aquatic</th>\n",
       "      <th>predator</th>\n",
       "      <th>toothed</th>\n",
       "      <th>backbone</th>\n",
       "      <th>breathes</th>\n",
       "      <th>venomous</th>\n",
       "      <th>fins</th>\n",
       "      <th>legs</th>\n",
       "      <th>tail</th>\n",
       "      <th>domestic</th>\n",
       "      <th>catsize</th>\n",
       "      <th>type</th>\n",
       "    </tr>\n",
       "  </thead>\n",
       "  <tbody>\n",
       "    <tr>\n",
       "      <th>hair</th>\n",
       "      <td>1.000000</td>\n",
       "      <td>-0.427851</td>\n",
       "      <td>-0.817382</td>\n",
       "      <td>0.878503</td>\n",
       "      <td>-0.198431</td>\n",
       "      <td>-0.473554</td>\n",
       "      <td>-0.154769</td>\n",
       "      <td>0.492531</td>\n",
       "      <td>0.191681</td>\n",
       "      <td>0.441149</td>\n",
       "      <td>-0.104245</td>\n",
       "      <td>-0.280313</td>\n",
       "      <td>0.394009</td>\n",
       "      <td>0.048973</td>\n",
       "      <td>0.207208</td>\n",
       "      <td>0.455020</td>\n",
       "      <td>-0.562384</td>\n",
       "    </tr>\n",
       "    <tr>\n",
       "      <th>feathers</th>\n",
       "      <td>-0.427851</td>\n",
       "      <td>1.000000</td>\n",
       "      <td>0.419248</td>\n",
       "      <td>-0.410761</td>\n",
       "      <td>0.656553</td>\n",
       "      <td>-0.058552</td>\n",
       "      <td>-0.104430</td>\n",
       "      <td>-0.613631</td>\n",
       "      <td>0.231403</td>\n",
       "      <td>0.254588</td>\n",
       "      <td>-0.145739</td>\n",
       "      <td>-0.223541</td>\n",
       "      <td>-0.206686</td>\n",
       "      <td>0.292569</td>\n",
       "      <td>0.031586</td>\n",
       "      <td>-0.135934</td>\n",
       "      <td>-0.197520</td>\n",
       "    </tr>\n",
       "    <tr>\n",
       "      <th>eggs</th>\n",
       "      <td>-0.817382</td>\n",
       "      <td>0.419248</td>\n",
       "      <td>1.000000</td>\n",
       "      <td>-0.938848</td>\n",
       "      <td>0.376646</td>\n",
       "      <td>0.376244</td>\n",
       "      <td>0.011605</td>\n",
       "      <td>-0.642150</td>\n",
       "      <td>-0.340420</td>\n",
       "      <td>-0.382777</td>\n",
       "      <td>0.098689</td>\n",
       "      <td>0.164796</td>\n",
       "      <td>-0.224918</td>\n",
       "      <td>-0.221090</td>\n",
       "      <td>-0.155610</td>\n",
       "      <td>-0.514650</td>\n",
       "      <td>0.661825</td>\n",
       "    </tr>\n",
       "    <tr>\n",
       "      <th>milk</th>\n",
       "      <td>0.878503</td>\n",
       "      <td>-0.410761</td>\n",
       "      <td>-0.938848</td>\n",
       "      <td>1.000000</td>\n",
       "      <td>-0.366765</td>\n",
       "      <td>-0.362613</td>\n",
       "      <td>-0.029721</td>\n",
       "      <td>0.628168</td>\n",
       "      <td>0.384958</td>\n",
       "      <td>0.423527</td>\n",
       "      <td>-0.242449</td>\n",
       "      <td>-0.156328</td>\n",
       "      <td>0.214196</td>\n",
       "      <td>0.210026</td>\n",
       "      <td>0.163928</td>\n",
       "      <td>0.574906</td>\n",
       "      <td>-0.723683</td>\n",
       "    </tr>\n",
       "    <tr>\n",
       "      <th>airborne</th>\n",
       "      <td>-0.198431</td>\n",
       "      <td>0.656553</td>\n",
       "      <td>0.376646</td>\n",
       "      <td>-0.366765</td>\n",
       "      <td>1.000000</td>\n",
       "      <td>-0.172638</td>\n",
       "      <td>-0.295181</td>\n",
       "      <td>-0.594311</td>\n",
       "      <td>-0.104718</td>\n",
       "      <td>0.286039</td>\n",
       "      <td>0.008528</td>\n",
       "      <td>-0.251157</td>\n",
       "      <td>0.043712</td>\n",
       "      <td>0.009482</td>\n",
       "      <td>0.063274</td>\n",
       "      <td>-0.349768</td>\n",
       "      <td>0.022677</td>\n",
       "    </tr>\n",
       "    <tr>\n",
       "      <th>aquatic</th>\n",
       "      <td>-0.473554</td>\n",
       "      <td>-0.058552</td>\n",
       "      <td>0.376244</td>\n",
       "      <td>-0.362613</td>\n",
       "      <td>-0.172638</td>\n",
       "      <td>1.000000</td>\n",
       "      <td>0.375978</td>\n",
       "      <td>0.053150</td>\n",
       "      <td>0.022463</td>\n",
       "      <td>-0.637506</td>\n",
       "      <td>0.087915</td>\n",
       "      <td>0.604492</td>\n",
       "      <td>-0.360638</td>\n",
       "      <td>-0.034642</td>\n",
       "      <td>-0.224308</td>\n",
       "      <td>-0.111866</td>\n",
       "      <td>0.326639</td>\n",
       "    </tr>\n",
       "    <tr>\n",
       "      <th>predator</th>\n",
       "      <td>-0.154769</td>\n",
       "      <td>-0.104430</td>\n",
       "      <td>0.011605</td>\n",
       "      <td>-0.029721</td>\n",
       "      <td>-0.295181</td>\n",
       "      <td>0.375978</td>\n",
       "      <td>1.000000</td>\n",
       "      <td>0.129452</td>\n",
       "      <td>0.051022</td>\n",
       "      <td>-0.262931</td>\n",
       "      <td>0.115391</td>\n",
       "      <td>0.190302</td>\n",
       "      <td>-0.099723</td>\n",
       "      <td>0.018947</td>\n",
       "      <td>-0.309794</td>\n",
       "      <td>0.144790</td>\n",
       "      <td>0.061179</td>\n",
       "    </tr>\n",
       "    <tr>\n",
       "      <th>toothed</th>\n",
       "      <td>0.492531</td>\n",
       "      <td>-0.613631</td>\n",
       "      <td>-0.642150</td>\n",
       "      <td>0.628168</td>\n",
       "      <td>-0.594311</td>\n",
       "      <td>0.053150</td>\n",
       "      <td>0.129452</td>\n",
       "      <td>1.000000</td>\n",
       "      <td>0.575085</td>\n",
       "      <td>-0.065690</td>\n",
       "      <td>-0.062344</td>\n",
       "      <td>0.364292</td>\n",
       "      <td>-0.193476</td>\n",
       "      <td>0.310368</td>\n",
       "      <td>0.069430</td>\n",
       "      <td>0.344010</td>\n",
       "      <td>-0.471527</td>\n",
       "    </tr>\n",
       "    <tr>\n",
       "      <th>backbone</th>\n",
       "      <td>0.191681</td>\n",
       "      <td>0.231403</td>\n",
       "      <td>-0.340420</td>\n",
       "      <td>0.384958</td>\n",
       "      <td>-0.104718</td>\n",
       "      <td>0.022463</td>\n",
       "      <td>0.051022</td>\n",
       "      <td>0.575085</td>\n",
       "      <td>1.000000</td>\n",
       "      <td>0.207666</td>\n",
       "      <td>-0.246611</td>\n",
       "      <td>0.209499</td>\n",
       "      <td>-0.432856</td>\n",
       "      <td>0.731762</td>\n",
       "      <td>0.101733</td>\n",
       "      <td>0.356976</td>\n",
       "      <td>-0.828845</td>\n",
       "    </tr>\n",
       "    <tr>\n",
       "      <th>breathes</th>\n",
       "      <td>0.441149</td>\n",
       "      <td>0.254588</td>\n",
       "      <td>-0.382777</td>\n",
       "      <td>0.423527</td>\n",
       "      <td>0.286039</td>\n",
       "      <td>-0.637506</td>\n",
       "      <td>-0.262931</td>\n",
       "      <td>-0.065690</td>\n",
       "      <td>0.207666</td>\n",
       "      <td>1.000000</td>\n",
       "      <td>-0.120752</td>\n",
       "      <td>-0.617219</td>\n",
       "      <td>0.369868</td>\n",
       "      <td>0.088952</td>\n",
       "      <td>0.124068</td>\n",
       "      <td>0.204125</td>\n",
       "      <td>-0.519308</td>\n",
       "    </tr>\n",
       "    <tr>\n",
       "      <th>venomous</th>\n",
       "      <td>-0.104245</td>\n",
       "      <td>-0.145739</td>\n",
       "      <td>0.098689</td>\n",
       "      <td>-0.242449</td>\n",
       "      <td>0.008528</td>\n",
       "      <td>0.087915</td>\n",
       "      <td>0.115391</td>\n",
       "      <td>-0.062344</td>\n",
       "      <td>-0.246611</td>\n",
       "      <td>-0.120752</td>\n",
       "      <td>1.000000</td>\n",
       "      <td>-0.033956</td>\n",
       "      <td>0.022964</td>\n",
       "      <td>-0.162724</td>\n",
       "      <td>-0.003252</td>\n",
       "      <td>-0.183748</td>\n",
       "      <td>0.321476</td>\n",
       "    </tr>\n",
       "    <tr>\n",
       "      <th>fins</th>\n",
       "      <td>-0.280313</td>\n",
       "      <td>-0.223541</td>\n",
       "      <td>0.164796</td>\n",
       "      <td>-0.156328</td>\n",
       "      <td>-0.251157</td>\n",
       "      <td>0.604492</td>\n",
       "      <td>0.190302</td>\n",
       "      <td>0.364292</td>\n",
       "      <td>0.209499</td>\n",
       "      <td>-0.617219</td>\n",
       "      <td>-0.033956</td>\n",
       "      <td>1.000000</td>\n",
       "      <td>-0.605652</td>\n",
       "      <td>0.204349</td>\n",
       "      <td>-0.093887</td>\n",
       "      <td>0.031705</td>\n",
       "      <td>0.099430</td>\n",
       "    </tr>\n",
       "    <tr>\n",
       "      <th>legs</th>\n",
       "      <td>0.394009</td>\n",
       "      <td>-0.206686</td>\n",
       "      <td>-0.224918</td>\n",
       "      <td>0.214196</td>\n",
       "      <td>0.043712</td>\n",
       "      <td>-0.360638</td>\n",
       "      <td>-0.099723</td>\n",
       "      <td>-0.193476</td>\n",
       "      <td>-0.432856</td>\n",
       "      <td>0.369868</td>\n",
       "      <td>0.022964</td>\n",
       "      <td>-0.605652</td>\n",
       "      <td>1.000000</td>\n",
       "      <td>-0.348295</td>\n",
       "      <td>0.073931</td>\n",
       "      <td>0.068791</td>\n",
       "      <td>0.131693</td>\n",
       "    </tr>\n",
       "    <tr>\n",
       "      <th>tail</th>\n",
       "      <td>0.048973</td>\n",
       "      <td>0.292569</td>\n",
       "      <td>-0.221090</td>\n",
       "      <td>0.210026</td>\n",
       "      <td>0.009482</td>\n",
       "      <td>-0.034642</td>\n",
       "      <td>0.018947</td>\n",
       "      <td>0.310368</td>\n",
       "      <td>0.731762</td>\n",
       "      <td>0.088952</td>\n",
       "      <td>-0.162724</td>\n",
       "      <td>0.204349</td>\n",
       "      <td>-0.348295</td>\n",
       "      <td>1.000000</td>\n",
       "      <td>0.023434</td>\n",
       "      <td>0.243277</td>\n",
       "      <td>-0.631830</td>\n",
       "    </tr>\n",
       "    <tr>\n",
       "      <th>domestic</th>\n",
       "      <td>0.207208</td>\n",
       "      <td>0.031586</td>\n",
       "      <td>-0.155610</td>\n",
       "      <td>0.163928</td>\n",
       "      <td>0.063274</td>\n",
       "      <td>-0.224308</td>\n",
       "      <td>-0.309794</td>\n",
       "      <td>0.069430</td>\n",
       "      <td>0.101733</td>\n",
       "      <td>0.124068</td>\n",
       "      <td>-0.003252</td>\n",
       "      <td>-0.093887</td>\n",
       "      <td>0.073931</td>\n",
       "      <td>0.023434</td>\n",
       "      <td>1.000000</td>\n",
       "      <td>0.020073</td>\n",
       "      <td>-0.181043</td>\n",
       "    </tr>\n",
       "    <tr>\n",
       "      <th>catsize</th>\n",
       "      <td>0.455020</td>\n",
       "      <td>-0.135934</td>\n",
       "      <td>-0.514650</td>\n",
       "      <td>0.574906</td>\n",
       "      <td>-0.349768</td>\n",
       "      <td>-0.111866</td>\n",
       "      <td>0.144790</td>\n",
       "      <td>0.344010</td>\n",
       "      <td>0.356976</td>\n",
       "      <td>0.204125</td>\n",
       "      <td>-0.183748</td>\n",
       "      <td>0.031705</td>\n",
       "      <td>0.068791</td>\n",
       "      <td>0.243277</td>\n",
       "      <td>0.020073</td>\n",
       "      <td>1.000000</td>\n",
       "      <td>-0.521030</td>\n",
       "    </tr>\n",
       "    <tr>\n",
       "      <th>type</th>\n",
       "      <td>-0.562384</td>\n",
       "      <td>-0.197520</td>\n",
       "      <td>0.661825</td>\n",
       "      <td>-0.723683</td>\n",
       "      <td>0.022677</td>\n",
       "      <td>0.326639</td>\n",
       "      <td>0.061179</td>\n",
       "      <td>-0.471527</td>\n",
       "      <td>-0.828845</td>\n",
       "      <td>-0.519308</td>\n",
       "      <td>0.321476</td>\n",
       "      <td>0.099430</td>\n",
       "      <td>0.131693</td>\n",
       "      <td>-0.631830</td>\n",
       "      <td>-0.181043</td>\n",
       "      <td>-0.521030</td>\n",
       "      <td>1.000000</td>\n",
       "    </tr>\n",
       "  </tbody>\n",
       "</table>\n",
       "</div>"
      ],
      "text/plain": [
       "              hair  feathers      eggs      milk  airborne   aquatic  \\\n",
       "hair      1.000000 -0.427851 -0.817382  0.878503 -0.198431 -0.473554   \n",
       "feathers -0.427851  1.000000  0.419248 -0.410761  0.656553 -0.058552   \n",
       "eggs     -0.817382  0.419248  1.000000 -0.938848  0.376646  0.376244   \n",
       "milk      0.878503 -0.410761 -0.938848  1.000000 -0.366765 -0.362613   \n",
       "airborne -0.198431  0.656553  0.376646 -0.366765  1.000000 -0.172638   \n",
       "aquatic  -0.473554 -0.058552  0.376244 -0.362613 -0.172638  1.000000   \n",
       "predator -0.154769 -0.104430  0.011605 -0.029721 -0.295181  0.375978   \n",
       "toothed   0.492531 -0.613631 -0.642150  0.628168 -0.594311  0.053150   \n",
       "backbone  0.191681  0.231403 -0.340420  0.384958 -0.104718  0.022463   \n",
       "breathes  0.441149  0.254588 -0.382777  0.423527  0.286039 -0.637506   \n",
       "venomous -0.104245 -0.145739  0.098689 -0.242449  0.008528  0.087915   \n",
       "fins     -0.280313 -0.223541  0.164796 -0.156328 -0.251157  0.604492   \n",
       "legs      0.394009 -0.206686 -0.224918  0.214196  0.043712 -0.360638   \n",
       "tail      0.048973  0.292569 -0.221090  0.210026  0.009482 -0.034642   \n",
       "domestic  0.207208  0.031586 -0.155610  0.163928  0.063274 -0.224308   \n",
       "catsize   0.455020 -0.135934 -0.514650  0.574906 -0.349768 -0.111866   \n",
       "type     -0.562384 -0.197520  0.661825 -0.723683  0.022677  0.326639   \n",
       "\n",
       "          predator   toothed  backbone  breathes  venomous      fins  \\\n",
       "hair     -0.154769  0.492531  0.191681  0.441149 -0.104245 -0.280313   \n",
       "feathers -0.104430 -0.613631  0.231403  0.254588 -0.145739 -0.223541   \n",
       "eggs      0.011605 -0.642150 -0.340420 -0.382777  0.098689  0.164796   \n",
       "milk     -0.029721  0.628168  0.384958  0.423527 -0.242449 -0.156328   \n",
       "airborne -0.295181 -0.594311 -0.104718  0.286039  0.008528 -0.251157   \n",
       "aquatic   0.375978  0.053150  0.022463 -0.637506  0.087915  0.604492   \n",
       "predator  1.000000  0.129452  0.051022 -0.262931  0.115391  0.190302   \n",
       "toothed   0.129452  1.000000  0.575085 -0.065690 -0.062344  0.364292   \n",
       "backbone  0.051022  0.575085  1.000000  0.207666 -0.246611  0.209499   \n",
       "breathes -0.262931 -0.065690  0.207666  1.000000 -0.120752 -0.617219   \n",
       "venomous  0.115391 -0.062344 -0.246611 -0.120752  1.000000 -0.033956   \n",
       "fins      0.190302  0.364292  0.209499 -0.617219 -0.033956  1.000000   \n",
       "legs     -0.099723 -0.193476 -0.432856  0.369868  0.022964 -0.605652   \n",
       "tail      0.018947  0.310368  0.731762  0.088952 -0.162724  0.204349   \n",
       "domestic -0.309794  0.069430  0.101733  0.124068 -0.003252 -0.093887   \n",
       "catsize   0.144790  0.344010  0.356976  0.204125 -0.183748  0.031705   \n",
       "type      0.061179 -0.471527 -0.828845 -0.519308  0.321476  0.099430   \n",
       "\n",
       "              legs      tail  domestic   catsize      type  \n",
       "hair      0.394009  0.048973  0.207208  0.455020 -0.562384  \n",
       "feathers -0.206686  0.292569  0.031586 -0.135934 -0.197520  \n",
       "eggs     -0.224918 -0.221090 -0.155610 -0.514650  0.661825  \n",
       "milk      0.214196  0.210026  0.163928  0.574906 -0.723683  \n",
       "airborne  0.043712  0.009482  0.063274 -0.349768  0.022677  \n",
       "aquatic  -0.360638 -0.034642 -0.224308 -0.111866  0.326639  \n",
       "predator -0.099723  0.018947 -0.309794  0.144790  0.061179  \n",
       "toothed  -0.193476  0.310368  0.069430  0.344010 -0.471527  \n",
       "backbone -0.432856  0.731762  0.101733  0.356976 -0.828845  \n",
       "breathes  0.369868  0.088952  0.124068  0.204125 -0.519308  \n",
       "venomous  0.022964 -0.162724 -0.003252 -0.183748  0.321476  \n",
       "fins     -0.605652  0.204349 -0.093887  0.031705  0.099430  \n",
       "legs      1.000000 -0.348295  0.073931  0.068791  0.131693  \n",
       "tail     -0.348295  1.000000  0.023434  0.243277 -0.631830  \n",
       "domestic  0.073931  0.023434  1.000000  0.020073 -0.181043  \n",
       "catsize   0.068791  0.243277  0.020073  1.000000 -0.521030  \n",
       "type      0.131693 -0.631830 -0.181043 -0.521030  1.000000  "
      ]
     },
     "execution_count": 11,
     "metadata": {},
     "output_type": "execute_result"
    }
   ],
   "source": [
    "#check correlation\n",
    "zoo.corr()"
   ]
  },
  {
   "cell_type": "code",
   "execution_count": 12,
   "id": "02cdb0df",
   "metadata": {},
   "outputs": [
    {
     "data": {
      "text/plain": [
       "<AxesSubplot:>"
      ]
     },
     "execution_count": 12,
     "metadata": {},
     "output_type": "execute_result"
    },
    {
     "data": {
      "image/png": "[encoded data removed]",
      "text/plain": [
       "<Figure size 1440x720 with 2 Axes>"
      ]
     },
     "metadata": {
      "needs_background": "light"
     },
     "output_type": "display_data"
    }
   ],
   "source": [
    "plt.figure(figsize=(20,10))\n",
    "sns.heatmap(zoo.corr(),annot=True,xticklabels=True)"
   ]
  },
  {
   "cell_type": "markdown",
   "id": "a155385f",
   "metadata": {},
   "source": [
    "### Countplot Show the counts of observations of animals classification in each categorical bin using bars."
   ]
  },
  {
   "cell_type": "code",
   "execution_count": 13,
   "id": "a40da674",
   "metadata": {},
   "outputs": [
    {
     "data": {
      "text/plain": [
       "<AxesSubplot:xlabel='type', ylabel='count'>"
      ]
     },
     "execution_count": 13,
     "metadata": {},
     "output_type": "execute_result"
    },
    {
     "data": {
      "image/png": "[encoded data removed]",
      "text/plain": [
       "<Figure size 432x288 with 1 Axes>"
      ]
     },
     "metadata": {
      "needs_background": "light"
     },
     "output_type": "display_data"
    }
   ],
   "source": [
    "#plot countplot to summarize the animal types\n",
    "sns.countplot(zoo['type'],label='Count')"
   ]
  },
  {
   "cell_type": "markdown",
   "id": "3533638b",
   "metadata": {},
   "source": [
    "### The animalas are classsified into 7 types."
   ]
  },
  {
   "cell_type": "code",
   "execution_count": 14,
   "id": "3843ca1a",
   "metadata": {},
   "outputs": [
    {
     "data": {
      "image/png": "[encoded data removed]",
      "text/plain": [
       "<Figure size 432x288 with 1 Axes>"
      ]
     },
     "metadata": {
      "needs_background": "light"
     },
     "output_type": "display_data"
    },
    {
     "data": {
      "text/plain": [
       "0    58\n",
       "1    43\n",
       "Name: hair, dtype: int64"
      ]
     },
     "execution_count": 14,
     "metadata": {},
     "output_type": "execute_result"
    }
   ],
   "source": [
    "sns.countplot(x='hair',data=zoo)\n",
    "plt.xlabel='Hair'\n",
    "plt.ylabel='Count'\n",
    "plt.show()\n",
    "zoo.loc[:,'hair'].value_counts()"
   ]
  },
  {
   "cell_type": "markdown",
   "id": "4edc5361",
   "metadata": {},
   "source": [
    " so we can conclude that the count of animals with hairs is more."
   ]
  },
  {
   "cell_type": "code",
   "execution_count": 15,
   "id": "2de6e95c",
   "metadata": {},
   "outputs": [
    {
     "data": {
      "text/plain": [
       "0    81\n",
       "1    20\n",
       "Name: feathers, dtype: int64"
      ]
     },
     "execution_count": 15,
     "metadata": {},
     "output_type": "execute_result"
    }
   ],
   "source": [
    "#Let's check how many animals have feathers\n",
    "zoo['feathers'].value_counts()"
   ]
  },
  {
   "cell_type": "markdown",
   "id": "4e1f27d5",
   "metadata": {},
   "source": [
    "There are 20 animals in the zoo have feathers."
   ]
  },
  {
   "cell_type": "code",
   "execution_count": 16,
   "id": "764f20f8",
   "metadata": {},
   "outputs": [
    {
     "data": {
      "text/plain": [
       "1    59\n",
       "0    42\n",
       "Name: eggs, dtype: int64"
      ]
     },
     "execution_count": 16,
     "metadata": {},
     "output_type": "execute_result"
    }
   ],
   "source": [
    "#Let's check how many animals give eggs\n",
    "zoo['eggs'].value_counts()"
   ]
  },
  {
   "cell_type": "markdown",
   "id": "e1802273",
   "metadata": {},
   "source": [
    "There are 59 oviparous animals in the zoo."
   ]
  },
  {
   "cell_type": "code",
   "execution_count": 17,
   "id": "20221f29",
   "metadata": {},
   "outputs": [
    {
     "data": {
      "text/plain": [
       "1    56\n",
       "0    45\n",
       "Name: predator, dtype: int64"
      ]
     },
     "execution_count": 17,
     "metadata": {},
     "output_type": "execute_result"
    }
   ],
   "source": [
    "#Let's check how many animals are predator\n",
    "zoo['predator'].value_counts()"
   ]
  },
  {
   "cell_type": "markdown",
   "id": "8c088504",
   "metadata": {},
   "source": [
    "There are 56 animals in zoo are predator."
   ]
  },
  {
   "cell_type": "code",
   "execution_count": 18,
   "id": "8b6310ca",
   "metadata": {},
   "outputs": [
    {
     "data": {
      "text/plain": [
       "0    93\n",
       "1     8\n",
       "Name: venomous, dtype: int64"
      ]
     },
     "execution_count": 18,
     "metadata": {},
     "output_type": "execute_result"
    }
   ],
   "source": [
    "#Let's check how many animals are venomous\n",
    "zoo['venomous'].value_counts()"
   ]
  },
  {
   "cell_type": "markdown",
   "id": "8a659935",
   "metadata": {},
   "source": [
    "only 8 animals in zoo are venomous"
   ]
  },
  {
   "cell_type": "code",
   "execution_count": 19,
   "id": "7c300561",
   "metadata": {},
   "outputs": [
    {
     "data": {
      "image/png": "[encoded data removed]",
      "text/plain": [
       "<Figure size 432x288 with 1 Axes>"
      ]
     },
     "metadata": {
      "needs_background": "light"
     },
     "output_type": "display_data"
    },
    {
     "data": {
      "text/plain": [
       "0    88\n",
       "1    13\n",
       "Name: domestic, dtype: int64"
      ]
     },
     "execution_count": 19,
     "metadata": {},
     "output_type": "execute_result"
    }
   ],
   "source": [
    "#Lets plot countplot to know how many animals are domestic or not\n",
    "sns.countplot(x='domestic',data=zoo)\n",
    "plt.xlabel='Domestic'\n",
    "plt.ylabel='Count'\n",
    "plt.show()\n",
    "zoo.loc[:,'domestic'].value_counts()"
   ]
  },
  {
   "cell_type": "markdown",
   "id": "066c4b2d",
   "metadata": {},
   "source": [
    "### So we can say that mostly animals are not domestic."
   ]
  },
  {
   "cell_type": "code",
   "execution_count": 20,
   "id": "933967ff",
   "metadata": {},
   "outputs": [
    {
     "data": {
      "text/html": [
       "<div>\n",
       "<style scoped>\n",
       "    .dataframe tbody tr th:only-of-type {\n",
       "        vertical-align: middle;\n",
       "    }\n",
       "\n",
       "    .dataframe tbody tr th {\n",
       "        vertical-align: top;\n",
       "    }\n",
       "\n",
       "    .dataframe thead th {\n",
       "        text-align: right;\n",
       "    }\n",
       "</style>\n",
       "<table border=\"1\" class=\"dataframe\">\n",
       "  <thead>\n",
       "    <tr style=\"text-align: right;\">\n",
       "      <th>domestic</th>\n",
       "      <th>0</th>\n",
       "      <th>1</th>\n",
       "    </tr>\n",
       "    <tr>\n",
       "      <th>type</th>\n",
       "      <th></th>\n",
       "      <th></th>\n",
       "    </tr>\n",
       "  </thead>\n",
       "  <tbody>\n",
       "    <tr>\n",
       "      <th>1</th>\n",
       "      <td>33</td>\n",
       "      <td>8</td>\n",
       "    </tr>\n",
       "    <tr>\n",
       "      <th>2</th>\n",
       "      <td>17</td>\n",
       "      <td>3</td>\n",
       "    </tr>\n",
       "    <tr>\n",
       "      <th>3</th>\n",
       "      <td>5</td>\n",
       "      <td>0</td>\n",
       "    </tr>\n",
       "    <tr>\n",
       "      <th>4</th>\n",
       "      <td>12</td>\n",
       "      <td>1</td>\n",
       "    </tr>\n",
       "    <tr>\n",
       "      <th>5</th>\n",
       "      <td>4</td>\n",
       "      <td>0</td>\n",
       "    </tr>\n",
       "    <tr>\n",
       "      <th>6</th>\n",
       "      <td>7</td>\n",
       "      <td>1</td>\n",
       "    </tr>\n",
       "    <tr>\n",
       "      <th>7</th>\n",
       "      <td>10</td>\n",
       "      <td>0</td>\n",
       "    </tr>\n",
       "  </tbody>\n",
       "</table>\n",
       "</div>"
      ],
      "text/plain": [
       "domestic   0  1\n",
       "type           \n",
       "1         33  8\n",
       "2         17  3\n",
       "3          5  0\n",
       "4         12  1\n",
       "5          4  0\n",
       "6          7  1\n",
       "7         10  0"
      ]
     },
     "execution_count": 20,
     "metadata": {},
     "output_type": "execute_result"
    }
   ],
   "source": [
    "#lets see classwise domestic & non-domestic count of animals\n",
    "pd.crosstab(zoo['type'],zoo['domestic'])"
   ]
  },
  {
   "cell_type": "code",
   "execution_count": 21,
   "id": "0038fadb",
   "metadata": {},
   "outputs": [
    {
     "data": {
      "image/png": "[encoded data removed]",
      "text/plain": [
       "<Figure size 864x720 with 1 Axes>"
      ]
     },
     "metadata": {
      "needs_background": "light"
     },
     "output_type": "display_data"
    }
   ],
   "source": [
    "#visualize classwise domestic & non-domestic count of animals\n",
    "pd.crosstab(zoo['type'],zoo['domestic']).plot(kind='bar',figsize=(12,10),title='Classwise Domestic & Non-domestic count');"
   ]
  },
  {
   "cell_type": "markdown",
   "id": "8f289147",
   "metadata": {},
   "source": [
    "### we conclude that In types 3,5 & 7 only have non-domestic animals"
   ]
  },
  {
   "cell_type": "code",
   "execution_count": 22,
   "id": "29f467de",
   "metadata": {},
   "outputs": [
    {
     "data": {
      "text/plain": [
       "0    60\n",
       "1    41\n",
       "Name: milk, dtype: int64"
      ]
     },
     "execution_count": 22,
     "metadata": {},
     "output_type": "execute_result"
    }
   ],
   "source": [
    "#Let's check how many animals give milk\n",
    "zoo['milk'].value_counts()"
   ]
  },
  {
   "cell_type": "code",
   "execution_count": 23,
   "id": "d9abafea",
   "metadata": {},
   "outputs": [
    {
     "data": {
      "image/png": "[encoded data removed]",
      "text/plain": [
       "<Figure size 432x288 with 1 Axes>"
      ]
     },
     "metadata": {
      "needs_background": "light"
     },
     "output_type": "display_data"
    }
   ],
   "source": [
    "#Lets plot countplot to know how many animals give milk or not\n",
    "sns.countplot(x='milk',data=zoo)\n",
    "plt.xlabel='Milk'\n",
    "plt.ylabel='Count'\n",
    "plt.show()"
   ]
  },
  {
   "cell_type": "markdown",
   "id": "68a07187",
   "metadata": {},
   "source": [
    " 41 animals in zoo are belongs to the category milk."
   ]
  },
  {
   "cell_type": "code",
   "execution_count": 24,
   "id": "770f22f6",
   "metadata": {},
   "outputs": [
    {
     "data": {
      "text/plain": [
       "0    65\n",
       "1    36\n",
       "Name: aquatic, dtype: int64"
      ]
     },
     "execution_count": 24,
     "metadata": {},
     "output_type": "execute_result"
    }
   ],
   "source": [
    "# Lets see how many animals live under water. i.e aquatic\n",
    "# lets find out all the aquatic animals.\n",
    "zoo.aquatic.value_counts() \n",
    "# lets see there class."
   ]
  },
  {
   "cell_type": "code",
   "execution_count": 25,
   "id": "0354b191",
   "metadata": {},
   "outputs": [
    {
     "data": {
      "image/png": "[encoded data removed]",
      "text/plain": [
       "<Figure size 432x288 with 1 Axes>"
      ]
     },
     "metadata": {
      "needs_background": "light"
     },
     "output_type": "display_data"
    }
   ],
   "source": [
    "#Lets plot countplot to know how many animals are aquatic or not\n",
    "sns.countplot(x='aquatic',data=zoo)\n",
    "plt.xlabel='Aquatic'\n",
    "plt.ylabel='Count'\n",
    "plt.show()"
   ]
  },
  {
   "cell_type": "markdown",
   "id": "b82f0723",
   "metadata": {},
   "source": [
    " Only 36 aquatic animals are there."
   ]
  },
  {
   "cell_type": "markdown",
   "id": "9ff28759",
   "metadata": {},
   "source": [
    "# Data Pre-Processing"
   ]
  },
  {
   "cell_type": "code",
   "execution_count": 26,
   "id": "e5bd1a14",
   "metadata": {},
   "outputs": [],
   "source": [
    "#Extracting Independent and dependent Variable  \n",
    "X=zoo.iloc[:,1:16].values\n",
    "y=zoo.iloc[:,16].values"
   ]
  },
  {
   "cell_type": "markdown",
   "id": "bdb1ea54",
   "metadata": {},
   "source": [
    "Use random state while splitting the data to ensure reproducibility and consistency"
   ]
  },
  {
   "cell_type": "code",
   "execution_count": 27,
   "id": "4645f5cd",
   "metadata": {},
   "outputs": [],
   "source": [
    "# Splitting the dataset into training and test set.\n",
    "X_train,X_test,y_train,y_test=train_test_split(X,y,test_size=0.30,random_state=42)"
   ]
  },
  {
   "cell_type": "code",
   "execution_count": 28,
   "id": "667cf062",
   "metadata": {},
   "outputs": [],
   "source": [
    "#feature scaling\n",
    "zoo_scaled=StandardScaler()\n",
    "X_train=zoo_scaled.fit_transform(X_train)\n",
    "X_test=zoo_scaled.transform(X_test)"
   ]
  },
  {
   "cell_type": "code",
   "execution_count": 29,
   "id": "423f413f",
   "metadata": {},
   "outputs": [
    {
     "data": {
      "text/plain": [
       "KNeighborsClassifier(n_neighbors=12)"
      ]
     },
     "execution_count": 29,
     "metadata": {},
     "output_type": "execute_result"
    }
   ],
   "source": [
    "#Fitting KNN classifier to Training dataset\n",
    "model1=KNeighborsClassifier(n_neighbors=12,metric='minkowski',p=2)\n",
    "model1.fit(X_train,y_train)"
   ]
  },
  {
   "cell_type": "code",
   "execution_count": 30,
   "id": "2920711a",
   "metadata": {},
   "outputs": [
    {
     "data": {
      "text/plain": [
       "array([1, 1, 0, 1, 1, 0, 1, 1, 1, 1, 0, 0, 0, 0, 0, 1, 1, 0, 0, 1, 0, 0,\n",
       "       0, 0, 1, 0, 0, 0, 1, 1, 0], dtype=int64)"
      ]
     },
     "execution_count": 30,
     "metadata": {},
     "output_type": "execute_result"
    }
   ],
   "source": [
    "y_pred=model1.predict(X_test)\n",
    "y_pred"
   ]
  },
  {
   "cell_type": "code",
   "execution_count": 31,
   "id": "41b09b3a",
   "metadata": {},
   "outputs": [
    {
     "data": {
      "text/plain": [
       "array([[15,  3],\n",
       "       [ 2, 11]], dtype=int64)"
      ]
     },
     "execution_count": 31,
     "metadata": {},
     "output_type": "execute_result"
    }
   ],
   "source": [
    "#creating Confusion Matrix\n",
    "cm=confusion_matrix(y_test,y_pred)\n",
    "cm"
   ]
  },
  {
   "cell_type": "code",
   "execution_count": 32,
   "id": "14152c84",
   "metadata": {},
   "outputs": [
    {
     "name": "stdout",
     "output_type": "stream",
     "text": [
      "              precision    recall  f1-score   support\n",
      "\n",
      "           0       0.88      0.83      0.86        18\n",
      "           1       0.79      0.85      0.81        13\n",
      "\n",
      "    accuracy                           0.84        31\n",
      "   macro avg       0.83      0.84      0.84        31\n",
      "weighted avg       0.84      0.84      0.84        31\n",
      "\n"
     ]
    }
   ],
   "source": [
    "#Build Classification Report\n",
    "print(classification_report(y_test,y_pred))"
   ]
  },
  {
   "cell_type": "code",
   "execution_count": 33,
   "id": "d658eb2d",
   "metadata": {},
   "outputs": [
    {
     "name": "stdout",
     "output_type": "stream",
     "text": [
      "0.8387096774193549\n"
     ]
    }
   ],
   "source": [
    "#Check Accuracy_score\n",
    "print(accuracy_score(y_test,y_pred))"
   ]
  },
  {
   "cell_type": "markdown",
   "id": "1bff95f9",
   "metadata": {},
   "source": [
    "### KNN gives 83% Accuracy with randomly selected k=5 neighbors."
   ]
  },
  {
   "cell_type": "markdown",
   "id": "983e9613",
   "metadata": {},
   "source": [
    "# Grid Search for Algorithm Tuning"
   ]
  },
  {
   "cell_type": "code",
   "execution_count": 34,
   "id": "d15a72c8",
   "metadata": {},
   "outputs": [],
   "source": [
    "#import libraries\n",
    "from sklearn.model_selection import GridSearchCV,cross_val_score"
   ]
  },
  {
   "cell_type": "code",
   "execution_count": 35,
   "id": "ef47a36b",
   "metadata": {},
   "outputs": [
    {
     "data": {
      "text/plain": [
       "{'n_neighbors': array([ 1,  2,  3,  4,  5,  6,  7,  8,  9, 10, 11, 12, 13, 14, 15, 16, 17,\n",
       "        18, 19, 20, 21, 22, 23, 24, 25, 26, 27, 28, 29, 30, 31, 32, 33, 34,\n",
       "        35, 36, 37, 38, 39])}"
      ]
     },
     "execution_count": 35,
     "metadata": {},
     "output_type": "execute_result"
    }
   ],
   "source": [
    "n_neighbors=np.array(range(1,40))\n",
    "param_grid=dict(n_neighbors=n_neighbors)\n",
    "param_grid"
   ]
  },
  {
   "cell_type": "code",
   "execution_count": 36,
   "id": "3f0cad00",
   "metadata": {},
   "outputs": [
    {
     "data": {
      "text/plain": [
       "GridSearchCV(estimator=KNeighborsClassifier(),\n",
       "             param_grid={'n_neighbors': array([ 1,  2,  3,  4,  5,  6,  7,  8,  9, 10, 11, 12, 13, 14, 15, 16, 17,\n",
       "       18, 19, 20, 21, 22, 23, 24, 25, 26, 27, 28, 29, 30, 31, 32, 33, 34,\n",
       "       35, 36, 37, 38, 39])})"
      ]
     },
     "execution_count": 36,
     "metadata": {},
     "output_type": "execute_result"
    }
   ],
   "source": [
    "classifier=KNeighborsClassifier()\n",
    "grid=GridSearchCV(estimator=classifier,param_grid=param_grid)\n",
    "grid.fit(X,y)"
   ]
  },
  {
   "cell_type": "code",
   "execution_count": 37,
   "id": "b8ba7c31",
   "metadata": {},
   "outputs": [
    {
     "name": "stdout",
     "output_type": "stream",
     "text": [
      "{'n_neighbors': 5}\n"
     ]
    }
   ],
   "source": [
    "#calculate better value for k\n",
    "print(grid.best_params_)"
   ]
  },
  {
   "cell_type": "markdown",
   "id": "d26229e6",
   "metadata": {},
   "source": [
    "### Grid SearchCV Give Best value for k is 5 ."
   ]
  },
  {
   "cell_type": "markdown",
   "id": "f8cfb232",
   "metadata": {},
   "source": [
    "# Visualizing the CV results"
   ]
  },
  {
   "cell_type": "code",
   "execution_count": 38,
   "id": "a381e586",
   "metadata": {},
   "outputs": [
    {
     "data": {
      "image/png": "[encoded data removed]",
      "text/plain": [
       "<Figure size 432x288 with 1 Axes>"
      ]
     },
     "metadata": {
      "needs_background": "light"
     },
     "output_type": "display_data"
    }
   ],
   "source": [
    "#choose k between 1 to 40\n",
    "k_range=range(1,40)\n",
    "k_scores=[]\n",
    "# use iteration to caclulator different k in models, then return the average accuracy based on the cross validation\n",
    "for k in k_range:\n",
    "    knn=KNeighborsClassifier(n_neighbors=k)\n",
    "    scores=cross_val_score(knn,X,y,cv=4)\n",
    "    k_scores.append(scores.mean())\n",
    "#plot to see clearly\n",
    "plt.plot(k_range,k_scores)\n",
    "plt.show()    "
   ]
  },
  {
   "cell_type": "markdown",
   "id": "febc40bf",
   "metadata": {},
   "source": [
    "### From Above plot we can say that k=5 produces most accurate result."
   ]
  },
  {
   "cell_type": "markdown",
   "id": "e804fd3f",
   "metadata": {},
   "source": [
    "# By using best value of k=5 we build KNN model."
   ]
  },
  {
   "cell_type": "code",
   "execution_count": 39,
   "id": "8b1e82e1",
   "metadata": {},
   "outputs": [],
   "source": [
    "model2=KNeighborsClassifier(n_neighbors=5,metric='minkowski',p=2)\n",
    "model2.fit(X_train,y_train)\n",
    "y_pred=model2.predict(X_test)"
   ]
  },
  {
   "cell_type": "code",
   "execution_count": 40,
   "id": "cf07bc1f",
   "metadata": {},
   "outputs": [
    {
     "data": {
      "text/plain": [
       "array([[15,  3],\n",
       "       [ 1, 12]], dtype=int64)"
      ]
     },
     "execution_count": 40,
     "metadata": {},
     "output_type": "execute_result"
    }
   ],
   "source": [
    "#creating Confusion Matrix\n",
    "cm=confusion_matrix(y_test,y_pred)\n",
    "cm"
   ]
  },
  {
   "cell_type": "code",
   "execution_count": 41,
   "id": "43a92d10",
   "metadata": {},
   "outputs": [
    {
     "name": "stdout",
     "output_type": "stream",
     "text": [
      "              precision    recall  f1-score   support\n",
      "\n",
      "           0       0.94      0.83      0.88        18\n",
      "           1       0.80      0.92      0.86        13\n",
      "\n",
      "    accuracy                           0.87        31\n",
      "   macro avg       0.87      0.88      0.87        31\n",
      "weighted avg       0.88      0.87      0.87        31\n",
      "\n"
     ]
    }
   ],
   "source": [
    "#Build Classification Report\n",
    "print(classification_report(y_test,y_pred))"
   ]
  },
  {
   "cell_type": "code",
   "execution_count": 42,
   "id": "09872fb6",
   "metadata": {},
   "outputs": [
    {
     "name": "stdout",
     "output_type": "stream",
     "text": [
      "0.8709677419354839\n"
     ]
    }
   ],
   "source": [
    "#Check Accuracy_score\n",
    "print(accuracy_score(y_test,y_pred))"
   ]
  },
  {
   "cell_type": "markdown",
   "id": "c518fd17",
   "metadata": {},
   "source": [
    "### After applying one of the hyper parameter tuning method Grid-Search CV, Now we get Accuracy 87.09% which is better than previous model.\n",
    "### The best k value found to be 5."
   ]
  },
  {
   "cell_type": "markdown",
   "id": "1a0b80e8",
   "metadata": {},
   "source": [
    "# Show Results"
   ]
  },
  {
   "cell_type": "code",
   "execution_count": 43,
   "id": "c57d2c64",
   "metadata": {},
   "outputs": [
    {
     "data": {
      "text/html": [
       "<div>\n",
       "<style scoped>\n",
       "    .dataframe tbody tr th:only-of-type {\n",
       "        vertical-align: middle;\n",
       "    }\n",
       "\n",
       "    .dataframe tbody tr th {\n",
       "        vertical-align: top;\n",
       "    }\n",
       "\n",
       "    .dataframe thead th {\n",
       "        text-align: right;\n",
       "    }\n",
       "</style>\n",
       "<table border=\"1\" class=\"dataframe\">\n",
       "  <thead>\n",
       "    <tr style=\"text-align: right;\">\n",
       "      <th></th>\n",
       "      <th>Name</th>\n",
       "      <th>Predict_Type</th>\n",
       "      <th>Original_Type</th>\n",
       "    </tr>\n",
       "  </thead>\n",
       "  <tbody>\n",
       "    <tr>\n",
       "      <th>70</th>\n",
       "      <td>reindeer</td>\n",
       "      <td>1</td>\n",
       "      <td>0</td>\n",
       "    </tr>\n",
       "    <tr>\n",
       "      <th>71</th>\n",
       "      <td>rhea</td>\n",
       "      <td>1</td>\n",
       "      <td>1</td>\n",
       "    </tr>\n",
       "    <tr>\n",
       "      <th>72</th>\n",
       "      <td>scorpion</td>\n",
       "      <td>1</td>\n",
       "      <td>1</td>\n",
       "    </tr>\n",
       "    <tr>\n",
       "      <th>73</th>\n",
       "      <td>seahorse</td>\n",
       "      <td>1</td>\n",
       "      <td>1</td>\n",
       "    </tr>\n",
       "    <tr>\n",
       "      <th>74</th>\n",
       "      <td>seal</td>\n",
       "      <td>1</td>\n",
       "      <td>1</td>\n",
       "    </tr>\n",
       "    <tr>\n",
       "      <th>75</th>\n",
       "      <td>sealion</td>\n",
       "      <td>0</td>\n",
       "      <td>0</td>\n",
       "    </tr>\n",
       "    <tr>\n",
       "      <th>76</th>\n",
       "      <td>seasnake</td>\n",
       "      <td>1</td>\n",
       "      <td>1</td>\n",
       "    </tr>\n",
       "    <tr>\n",
       "      <th>77</th>\n",
       "      <td>seawasp</td>\n",
       "      <td>1</td>\n",
       "      <td>1</td>\n",
       "    </tr>\n",
       "    <tr>\n",
       "      <th>78</th>\n",
       "      <td>skimmer</td>\n",
       "      <td>1</td>\n",
       "      <td>1</td>\n",
       "    </tr>\n",
       "    <tr>\n",
       "      <th>79</th>\n",
       "      <td>skua</td>\n",
       "      <td>1</td>\n",
       "      <td>1</td>\n",
       "    </tr>\n",
       "    <tr>\n",
       "      <th>80</th>\n",
       "      <td>slowworm</td>\n",
       "      <td>0</td>\n",
       "      <td>1</td>\n",
       "    </tr>\n",
       "    <tr>\n",
       "      <th>81</th>\n",
       "      <td>slug</td>\n",
       "      <td>0</td>\n",
       "      <td>0</td>\n",
       "    </tr>\n",
       "    <tr>\n",
       "      <th>82</th>\n",
       "      <td>sole</td>\n",
       "      <td>0</td>\n",
       "      <td>0</td>\n",
       "    </tr>\n",
       "    <tr>\n",
       "      <th>83</th>\n",
       "      <td>sparrow</td>\n",
       "      <td>0</td>\n",
       "      <td>0</td>\n",
       "    </tr>\n",
       "    <tr>\n",
       "      <th>84</th>\n",
       "      <td>squirrel</td>\n",
       "      <td>0</td>\n",
       "      <td>0</td>\n",
       "    </tr>\n",
       "    <tr>\n",
       "      <th>85</th>\n",
       "      <td>starfish</td>\n",
       "      <td>1</td>\n",
       "      <td>1</td>\n",
       "    </tr>\n",
       "    <tr>\n",
       "      <th>86</th>\n",
       "      <td>stingray</td>\n",
       "      <td>1</td>\n",
       "      <td>0</td>\n",
       "    </tr>\n",
       "    <tr>\n",
       "      <th>87</th>\n",
       "      <td>swan</td>\n",
       "      <td>0</td>\n",
       "      <td>0</td>\n",
       "    </tr>\n",
       "    <tr>\n",
       "      <th>88</th>\n",
       "      <td>termite</td>\n",
       "      <td>0</td>\n",
       "      <td>0</td>\n",
       "    </tr>\n",
       "    <tr>\n",
       "      <th>89</th>\n",
       "      <td>toad</td>\n",
       "      <td>1</td>\n",
       "      <td>1</td>\n",
       "    </tr>\n",
       "    <tr>\n",
       "      <th>90</th>\n",
       "      <td>tortoise</td>\n",
       "      <td>0</td>\n",
       "      <td>0</td>\n",
       "    </tr>\n",
       "    <tr>\n",
       "      <th>91</th>\n",
       "      <td>tuatara</td>\n",
       "      <td>0</td>\n",
       "      <td>0</td>\n",
       "    </tr>\n",
       "    <tr>\n",
       "      <th>92</th>\n",
       "      <td>tuna</td>\n",
       "      <td>0</td>\n",
       "      <td>0</td>\n",
       "    </tr>\n",
       "    <tr>\n",
       "      <th>93</th>\n",
       "      <td>vampire</td>\n",
       "      <td>0</td>\n",
       "      <td>0</td>\n",
       "    </tr>\n",
       "    <tr>\n",
       "      <th>94</th>\n",
       "      <td>vole</td>\n",
       "      <td>1</td>\n",
       "      <td>1</td>\n",
       "    </tr>\n",
       "    <tr>\n",
       "      <th>95</th>\n",
       "      <td>vulture</td>\n",
       "      <td>0</td>\n",
       "      <td>0</td>\n",
       "    </tr>\n",
       "    <tr>\n",
       "      <th>96</th>\n",
       "      <td>wallaby</td>\n",
       "      <td>0</td>\n",
       "      <td>0</td>\n",
       "    </tr>\n",
       "    <tr>\n",
       "      <th>97</th>\n",
       "      <td>wasp</td>\n",
       "      <td>0</td>\n",
       "      <td>0</td>\n",
       "    </tr>\n",
       "    <tr>\n",
       "      <th>98</th>\n",
       "      <td>wolf</td>\n",
       "      <td>1</td>\n",
       "      <td>0</td>\n",
       "    </tr>\n",
       "    <tr>\n",
       "      <th>99</th>\n",
       "      <td>worm</td>\n",
       "      <td>1</td>\n",
       "      <td>1</td>\n",
       "    </tr>\n",
       "    <tr>\n",
       "      <th>100</th>\n",
       "      <td>wren</td>\n",
       "      <td>0</td>\n",
       "      <td>0</td>\n",
       "    </tr>\n",
       "  </tbody>\n",
       "</table>\n",
       "</div>"
      ],
      "text/plain": [
       "         Name  Predict_Type  Original_Type\n",
       "70   reindeer             1              0\n",
       "71       rhea             1              1\n",
       "72   scorpion             1              1\n",
       "73   seahorse             1              1\n",
       "74       seal             1              1\n",
       "75    sealion             0              0\n",
       "76   seasnake             1              1\n",
       "77    seawasp             1              1\n",
       "78    skimmer             1              1\n",
       "79       skua             1              1\n",
       "80   slowworm             0              1\n",
       "81       slug             0              0\n",
       "82       sole             0              0\n",
       "83    sparrow             0              0\n",
       "84   squirrel             0              0\n",
       "85   starfish             1              1\n",
       "86   stingray             1              0\n",
       "87       swan             0              0\n",
       "88    termite             0              0\n",
       "89       toad             1              1\n",
       "90   tortoise             0              0\n",
       "91    tuatara             0              0\n",
       "92       tuna             0              0\n",
       "93    vampire             0              0\n",
       "94       vole             1              1\n",
       "95    vulture             0              0\n",
       "96    wallaby             0              0\n",
       "97       wasp             0              0\n",
       "98       wolf             1              0\n",
       "99       worm             1              1\n",
       "100      wren             0              0"
      ]
     },
     "execution_count": 43,
     "metadata": {},
     "output_type": "execute_result"
    }
   ],
   "source": [
    "sub = pd.DataFrame()\n",
    "sub['Name'] = zoo['animal name'].iloc[70:,]\n",
    "sub['Predict_Type'] = y_pred\n",
    "sub['Original_Type'] = y_test\n",
    "#sub['Correct'] =test_accuracy\n",
    "sub"
   ]
  },
  {
   "cell_type": "code",
   "execution_count": null,
   "id": "a889e3e8",
   "metadata": {},
   "outputs": [],
   "source": []
  }
 ],
 "metadata": {
  "kernelspec": {
   "display_name": "Python 3 (ipykernel)",
   "language": "python",
   "name": "python3"
  },
  "language_info": {
   "codemirror_mode": {
    "name": "ipython",
    "version": 3
   },
   "file_extension": ".py",
   "mimetype": "text/x-python",
   "name": "python",
   "nbconvert_exporter": "python",
   "pygments_lexer": "ipython3",
   "version": "3.9.12"
  }
 },
 "nbformat": 4,
 "nbformat_minor": 5
}
